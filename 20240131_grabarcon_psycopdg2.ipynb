{
  "cells": [
    {
      "cell_type": "code",
      "execution_count": null,
      "metadata": {
        "id": "z-Xmbnky06Ad"
      },
      "outputs": [],
      "source": [
        "def save_notification_to_db(\n",
        "            self,\n",
        "            table: str = \"public.customer_notifications\",\n",
        "            user_id: str = \"\",\n",
        "            insight_name: str = \"\",\n",
        "            notification_name: str = \"\",\n",
        "            date: str = \"\",\n",
        "            sent_to_user: bool = False,\n",
        "            job_execution_uid: int = None,\n",
        "            verbose: int = 0\n",
        "    ):\n",
        "    import psycopg2\n",
        "\n",
        "    # Database connection parameters\n",
        "    db_name = \"postgres\"\n",
        "    db_user = \"postgres\"\n",
        "    db_password = XXX\n",
        "    db_host = \"datawarehouse-dev.cwjw1iv5xvhh.us-west-2.rds.amazonaws.com\"\n",
        "    db_port = \"5432\"\n",
        "\n",
        "    # Connect to the database\n",
        "    conn = psycopg2.connect(\n",
        "        dbname=db_name, user=db_user, password=db_password, host=db_host, port=db_port\n",
        "    )\n",
        "\n",
        "    # Create a cursor object\n",
        "    cur = conn.cursor()\n",
        "\n",
        "    sql_sent_to_user = \"TRUE\" if sent_to_user else \"FALSE\"\n",
        "\n",
        "    # SQL query to insert a new row and return the colId\n",
        "    insert_query = f\"\"\"\n",
        "    INSERT INTO customer_notifications (id, customer_uuid, flg_message_sent_customer, insight_catalogue_id, insight_execution_log_id, notification_dictionary_id, time_zone_id, last_updated, customer_age, gender_id, country_id, country_state_id, dow, hod, date_record_utc)\n",
        "    SELECT (SELECT COUNT(id) + 1 FROM customer_notifications) AS id,\n",
        "    '{user_id}' AS customer_uuid,\n",
        "    {sql_sent_to_user} AS flg_message_sent_customer,\n",
        "    (SELECT id FROM insight_catalogue WHERE insight_name='{insight_name}') AS insight_catalogue_id,\n",
        "    CAST('{job_execution_uid}' AS BIGINT) AS insight_execution_log_id,\n",
        "    (SELECT id FROM notification_dictionary WHERE notification_name='{notification_name}') AS notification_dictionary_id,\n",
        "    cdata.time_zone_id AS time_zone_id,\n",
        "    '{date}' AS last_updated,\n",
        "    (SELECT (EXTRACT(YEAR FROM AGE(CURRENT_DATE, (CONCAT(cdata.yob,'-07-01'))::DATE))) FROM customer_data AS cdata WHERE cdata.yob<>'0' AND cdata.customer_uuid='{user_id}' LIMIT 1) AS customer_age,\n",
        "    cdata.gender_id AS gender_id,\n",
        "    cdata.country_id AS country_id,\n",
        "    cdata.country_state_id AS country_state_id,\n",
        "    EXTRACT(DOW FROM CURRENT_TIMESTAMP AT TIME ZONE 'UTC') % 7 + 1 AS dow,\n",
        "    EXTRACT(HOUR FROM CURRENT_TIMESTAMP AT TIME ZONE 'UTC') AS hod,\n",
        "    CURRENT_TIMESTAMP AT TIME ZONE 'UTC' AS date_record_utc\n",
        "\n",
        "    FROM\n",
        "        customer_data cdata\n",
        "\n",
        "    WHERE cdata.customer_uuid='{user_id}' LIMIT 1\n",
        "\n",
        "    RETURNING *;\n",
        "    \"\"\"\n",
        "\n",
        "\n",
        "    # Execute the query\n",
        "    cur.execute(insert_query)\n",
        "\n",
        "    # Fetch the returned colId\n",
        "    colId_value = cur.fetchone()\n",
        "\n",
        "    # Commit the changes\n",
        "    conn.commit()\n",
        "\n",
        "    # Print the colId value\n",
        "    dataframe_to_save=colId_value\n",
        "\n",
        "    # Close the cursor and connection\n",
        "    cur.close()\n",
        "    conn.close()\n",
        "    return dataframe_to_save"
      ]
    },
    {
      "cell_type": "code",
      "execution_count": null,
      "metadata": {
        "id": "s-BjBBfv06A5",
        "outputId": "748b293e-f5a0-49a7-8492-b2f017c42c83"
      },
      "outputs": [
        {
          "name": "stdout",
          "output_type": "stream",
          "text": [
            "(31, '03459abe-1189-4d6d-ba69-14265d3d575a', 35, 1, None, None, None, None, None, 4, '8', datetime.datetime(2024, 1, 31, 8, 42, 48, 50619), None, 50, None, None, 4, 5, None, None, datetime.datetime(2023, 9, 14, 0, 0, tzinfo=datetime.timezone.utc), True, None)\n"
          ]
        }
      ],
      "source": [
        "linea=save_notification_to_db(1,\n",
        "                    user_id=\"03459abe-1189-4d6d-ba69-14265d3d575a\",\n",
        "                    insight_name='Heart Health',\n",
        "                    notification_name=\"Non executed\",\n",
        "                    sent_to_user=True,\n",
        "                    date='2023-09-14',\n",
        "                    job_execution_uid=\"5\",\n",
        "                    verbose=True\n",
        "                )\n",
        "print(linea)\n"
      ]
    }
  ],
  "metadata": {
    "kernelspec": {
      "display_name": "Python 3",
      "language": "python",
      "name": "python3"
    },
    "language_info": {
      "codemirror_mode": {
        "name": "ipython",
        "version": 3
      },
      "file_extension": ".py",
      "mimetype": "text/x-python",
      "name": "python",
      "nbconvert_exporter": "python",
      "pygments_lexer": "ipython3",
      "version": "3.10.7"
    },
    "colab": {
      "provenance": []
    }
  },
  "nbformat": 4,
  "nbformat_minor": 0
}