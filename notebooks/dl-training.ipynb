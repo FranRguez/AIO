{
 "cells": [
  {
   "cell_type": "markdown",
   "metadata": {},
   "source": [
    "## Task 3 Predictive model based on a DL approach (Keras)"
   ]
  },
  {
   "cell_type": "code",
   "execution_count": 12,
   "metadata": {},
   "outputs": [],
   "source": [
    "# Import necessary libraries\n",
    "import pandas as pd\n",
    "import numpy as np\n",
    "from sklearn.model_selection import train_test_split\n",
    "from sklearn.preprocessing import StandardScaler\n",
    "from keras.models import Sequential\n",
    "from keras.layers import Dense\n",
    "from keras.callbacks import ModelCheckpoint\n",
    "from keras.optimizers import Adam\n",
    "import os\n",
    "os.environ[\"KERAS_BACKEND\"] = \"jax\"\n",
    "import keras"
   ]
  },
  {
   "cell_type": "code",
   "execution_count": 13,
   "metadata": {},
   "outputs": [],
   "source": [
    "# Load your dataset and preprocess the data (replace 'your_data.csv' with your data)\n",
    "database = pd.read_csv((os.path.join('..', 'data', 'dataset.csv')))\n",
    "\n",
    "# We set the cutoff points this time at 90 days since the visit.\n",
    "database.loc[database['time'] > 90, 'DEATH_EVENT'] = 0"
   ]
  },
  {
   "cell_type": "code",
   "execution_count": 14,
   "metadata": {},
   "outputs": [],
   "source": [
    "# Preprocessing: Assume your data has features and a target variable 'DEATH_EVENT'\n",
    "X = database.drop(columns=['DEATH_EVENT', 'time'], axis=1)\n",
    "y = database['DEATH_EVENT']\n",
    "\n",
    "# Splitting the dataset into train and test sets.\n",
    "X_train, X_test, y_train, y_test = train_test_split(X, y, test_size=0.2, random_state=42)\n"
   ]
  },
  {
   "cell_type": "code",
   "execution_count": 25,
   "metadata": {},
   "outputs": [
    {
     "name": "stdout",
     "output_type": "stream",
     "text": [
      "Epoch 1/20\n",
      " 1/15 [=>............................] - ETA: 5s - loss: 0.1996 - accuracy: 0.6875INFO:tensorflow:Assets written to: ..\\models\\dl-model.models\\assets\n",
      "15/15 [==============================] - 1s 57ms/step - loss: 0.1963 - accuracy: 0.7647 - val_loss: 0.2280 - val_accuracy: 0.7333\n",
      "Epoch 2/20\n",
      " 1/15 [=>............................] - ETA: 0s - loss: 0.2186 - accuracy: 0.6250INFO:tensorflow:Assets written to: ..\\models\\dl-model.models\\assets\n",
      "15/15 [==============================] - 1s 45ms/step - loss: 0.1874 - accuracy: 0.7815 - val_loss: 0.2258 - val_accuracy: 0.7333\n",
      "Epoch 3/20\n",
      " 1/15 [=>............................] - ETA: 0s - loss: 0.1759 - accuracy: 0.7500INFO:tensorflow:Assets written to: ..\\models\\dl-model.models\\assets\n",
      "15/15 [==============================] - 1s 44ms/step - loss: 0.1810 - accuracy: 0.7815 - val_loss: 0.2237 - val_accuracy: 0.7333\n",
      "Epoch 4/20\n",
      " 1/15 [=>............................] - ETA: 0s - loss: 0.1590 - accuracy: 0.7500INFO:tensorflow:Assets written to: ..\\models\\dl-model.models\\assets\n",
      "15/15 [==============================] - 1s 45ms/step - loss: 0.1761 - accuracy: 0.7815 - val_loss: 0.2225 - val_accuracy: 0.7333\n",
      "Epoch 5/20\n",
      " 1/15 [=>............................] - ETA: 0s - loss: 0.1617 - accuracy: 0.8125INFO:tensorflow:Assets written to: ..\\models\\dl-model.models\\assets\n",
      "15/15 [==============================] - 1s 40ms/step - loss: 0.1722 - accuracy: 0.7815 - val_loss: 0.2216 - val_accuracy: 0.7333\n",
      "Epoch 6/20\n",
      " 1/15 [=>............................] - ETA: 0s - loss: 0.1027 - accuracy: 0.9375INFO:tensorflow:Assets written to: ..\\models\\dl-model.models\\assets\n",
      "15/15 [==============================] - 1s 42ms/step - loss: 0.1692 - accuracy: 0.7815 - val_loss: 0.2206 - val_accuracy: 0.7333\n",
      "Epoch 7/20\n",
      " 1/15 [=>............................] - ETA: 0s - loss: 0.1543 - accuracy: 0.8125INFO:tensorflow:Assets written to: ..\\models\\dl-model.models\\assets\n",
      "15/15 [==============================] - 1s 41ms/step - loss: 0.1666 - accuracy: 0.7815 - val_loss: 0.2199 - val_accuracy: 0.7333\n",
      "Epoch 8/20\n",
      " 1/15 [=>............................] - ETA: 0s - loss: 0.1872 - accuracy: 0.6875INFO:tensorflow:Assets written to: ..\\models\\dl-model.models\\assets\n",
      "15/15 [==============================] - 1s 49ms/step - loss: 0.1641 - accuracy: 0.7815 - val_loss: 0.2194 - val_accuracy: 0.7333\n",
      "Epoch 9/20\n",
      " 1/15 [=>............................] - ETA: 0s - loss: 0.0953 - accuracy: 0.9375INFO:tensorflow:Assets written to: ..\\models\\dl-model.models\\assets\n",
      "15/15 [==============================] - 1s 37ms/step - loss: 0.1621 - accuracy: 0.7815 - val_loss: 0.2185 - val_accuracy: 0.7333\n",
      "Epoch 10/20\n",
      " 1/15 [=>............................] - ETA: 0s - loss: 0.1942 - accuracy: 0.6875INFO:tensorflow:Assets written to: ..\\models\\dl-model.models\\assets\n",
      "15/15 [==============================] - 1s 36ms/step - loss: 0.1601 - accuracy: 0.7815 - val_loss: 0.2179 - val_accuracy: 0.7333\n",
      "Epoch 11/20\n",
      " 1/15 [=>............................] - ETA: 0s - loss: 0.2390 - accuracy: 0.6875INFO:tensorflow:Assets written to: ..\\models\\dl-model.models\\assets\n",
      "15/15 [==============================] - 1s 38ms/step - loss: 0.1579 - accuracy: 0.7815 - val_loss: 0.2172 - val_accuracy: 0.7333\n",
      "Epoch 12/20\n",
      "15/15 [==============================] - ETA: 0s - loss: 0.1562 - accuracy: 0.7815INFO:tensorflow:Assets written to: ..\\models\\dl-model.models\\assets\n",
      "15/15 [==============================] - 1s 44ms/step - loss: 0.1562 - accuracy: 0.7815 - val_loss: 0.2166 - val_accuracy: 0.7333\n",
      "Epoch 13/20\n",
      " 1/15 [=>............................] - ETA: 0s - loss: 0.2067 - accuracy: 0.6250INFO:tensorflow:Assets written to: ..\\models\\dl-model.models\\assets\n",
      "15/15 [==============================] - 1s 49ms/step - loss: 0.1544 - accuracy: 0.7815 - val_loss: 0.2161 - val_accuracy: 0.7333\n",
      "Epoch 14/20\n",
      " 1/15 [=>............................] - ETA: 0s - loss: 0.1243 - accuracy: 0.8125INFO:tensorflow:Assets written to: ..\\models\\dl-model.models\\assets\n",
      "15/15 [==============================] - 1s 40ms/step - loss: 0.1530 - accuracy: 0.7857 - val_loss: 0.2153 - val_accuracy: 0.7333\n",
      "Epoch 15/20\n",
      " 1/15 [=>............................] - ETA: 0s - loss: 0.1040 - accuracy: 0.8750INFO:tensorflow:Assets written to: ..\\models\\dl-model.models\\assets\n",
      "15/15 [==============================] - 1s 44ms/step - loss: 0.1513 - accuracy: 0.7857 - val_loss: 0.2148 - val_accuracy: 0.7333\n",
      "Epoch 16/20\n",
      " 1/15 [=>............................] - ETA: 0s - loss: 0.1819 - accuracy: 0.7500INFO:tensorflow:Assets written to: ..\\models\\dl-model.models\\assets\n",
      "15/15 [==============================] - 1s 50ms/step - loss: 0.1498 - accuracy: 0.7857 - val_loss: 0.2144 - val_accuracy: 0.7333\n",
      "Epoch 17/20\n",
      " 1/15 [=>............................] - ETA: 0s - loss: 0.2108 - accuracy: 0.7500INFO:tensorflow:Assets written to: ..\\models\\dl-model.models\\assets\n",
      "15/15 [==============================] - 1s 48ms/step - loss: 0.1486 - accuracy: 0.7857 - val_loss: 0.2138 - val_accuracy: 0.7333\n",
      "Epoch 18/20\n",
      " 1/15 [=>............................] - ETA: 0s - loss: 0.1245 - accuracy: 0.8125INFO:tensorflow:Assets written to: ..\\models\\dl-model.models\\assets\n",
      "15/15 [==============================] - 1s 40ms/step - loss: 0.1472 - accuracy: 0.7857 - val_loss: 0.2132 - val_accuracy: 0.7333\n",
      "Epoch 19/20\n",
      " 1/15 [=>............................] - ETA: 0s - loss: 0.1373 - accuracy: 0.8125INFO:tensorflow:Assets written to: ..\\models\\dl-model.models\\assets\n",
      "15/15 [==============================] - 1s 41ms/step - loss: 0.1459 - accuracy: 0.7899 - val_loss: 0.2127 - val_accuracy: 0.7333\n",
      "Epoch 20/20\n",
      " 1/15 [=>............................] - ETA: 0s - loss: 0.1504 - accuracy: 0.7500INFO:tensorflow:Assets written to: ..\\models\\dl-model.models\\assets\n",
      "15/15 [==============================] - 1s 38ms/step - loss: 0.1445 - accuracy: 0.7899 - val_loss: 0.2122 - val_accuracy: 0.7333\n"
     ]
    }
   ],
   "source": [
    "# Standardize features by removing the mean and scaling to unit variance\n",
    "scaler = StandardScaler()\n",
    "X_train_scaled = scaler.fit_transform(X_train)\n",
    "X_test_scaled = scaler.transform(X_test)\n",
    "\n",
    "# Define the Keras model\n",
    "model = Sequential()\n",
    "model.add(Dense(8, activation='relu', input_shape=(X_train.shape[1],)))\n",
    "model.add(Dense(4, activation='relu'))\n",
    "model.add(Dense(1, activation='sigmoid'))\n",
    "\n",
    "# Compile the model\n",
    "model.compile(optimizer=Adam(learning_rate=0.001), loss='mean_squared_error', metrics=['accuracy'])\n",
    "\n",
    "# Define a ModelCheckpoint callback to save the best model during training\n",
    "checkpoint = ModelCheckpoint((os.path.join('..','models', 'dl-model.models')), monitor='val_loss', save_best_only=True, mode='min')\n",
    "\n",
    "# Train the model\n",
    "history = model.fit(X_train_scaled, y_train, epochs=20, batch_size=16, validation_data=(X_test_scaled, y_test), callbacks=[checkpoint])\n",
    "\n"
   ]
  },
  {
   "cell_type": "code",
   "execution_count": 26,
   "metadata": {},
   "outputs": [
    {
     "name": "stdout",
     "output_type": "stream",
     "text": [
      "2/2 [==============================] - 0s 4ms/step - loss: 0.2122 - accuracy: 0.7333\n",
      "Validation Loss: 0.2122\n",
      "Validation Accuracy: 0.7333\n"
     ]
    }
   ],
   "source": [
    "# Validation metrics\n",
    "loss, accuracy = model.evaluate(X_test_scaled, y_test)\n",
    "print(f\"Validation Loss: {loss:.4f}\")\n",
    "print(f\"Validation Accuracy: {accuracy:.4f}\")"
   ]
  }
 ],
 "metadata": {
  "kernelspec": {
   "display_name": "Python 3 (ipykernel)",
   "language": "python",
   "name": "python3"
  },
  "language_info": {
   "codemirror_mode": {
    "name": "ipython",
    "version": 3
   },
   "file_extension": ".py",
   "mimetype": "text/x-python",
   "name": "python",
   "nbconvert_exporter": "python",
   "pygments_lexer": "ipython3",
   "version": "3.10.7"
  }
 },
 "nbformat": 4,
 "nbformat_minor": 2
}
