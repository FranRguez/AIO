{
 "cells": [
  {
   "cell_type": "markdown",
   "metadata": {},
   "source": [
    "## Task 3 Predictive model based on a DL approach (Keras)"
   ]
  },
  {
   "cell_type": "code",
   "execution_count": 5,
   "metadata": {},
   "outputs": [],
   "source": [
    "# Import necessary libraries\n",
    "import pandas as pd\n",
    "import numpy as np\n",
    "from sklearn.model_selection import train_test_split\n",
    "from sklearn.preprocessing import StandardScaler\n",
    "from keras.models import Sequential\n",
    "from keras.layers import Dense\n",
    "from keras.callbacks import ModelCheckpoint\n",
    "from keras.optimizers import Adam\n",
    "import os\n",
    "os.environ[\"KERAS_BACKEND\"] = \"jax\"\n",
    "import keras"
   ]
  },
  {
   "cell_type": "code",
   "execution_count": 6,
   "metadata": {},
   "outputs": [],
   "source": [
    "# Load your dataset and preprocess the data (replace 'your_data.csv' with your data)\n",
    "database = pd.read_csv((os.path.join('..', 'data', 'dataset.csv')))\n",
    "\n",
    "# We set the cutoff points this time at 90 days since the visit.\n",
    "database.loc[database['time'] > 90, 'DEATH_EVENT'] = 0"
   ]
  },
  {
   "cell_type": "code",
   "execution_count": 7,
   "metadata": {},
   "outputs": [],
   "source": [
    "# Preprocessing: Assume your data has features and a target variable 'DEATH_EVENT'\n",
    "X = database.drop(columns=['DEATH_EVENT', 'creatinine_phosphokinase','serum_sodium'], axis=1   )\n",
    "y = database['DEATH_EVENT']\n",
    "\n",
    "# Splitting the dataset into train and test sets\n",
    "X_train, X_test, y_train, y_test = train_test_split(X, y, test_size=0.2, random_state=42)\n"
   ]
  },
  {
   "cell_type": "code",
   "execution_count": 9,
   "metadata": {},
   "outputs": [
    {
     "name": "stdout",
     "output_type": "stream",
     "text": [
      "Epoch 1/20\n"
     ]
    },
    {
     "name": "stderr",
     "output_type": "stream",
     "text": [
      "C:\\Users\\user\\AppData\\Local\\Programs\\Python\\Python310\\lib\\random.py:370: DeprecationWarning: non-integer arguments to randrange() have been deprecated since Python 3.10 and will be removed in a subsequent version\n",
      "  return self.randrange(a, b+1)\n",
      "C:\\Users\\user\\AppData\\Local\\Programs\\Python\\Python310\\lib\\random.py:370: DeprecationWarning: non-integer arguments to randrange() have been deprecated since Python 3.10 and will be removed in a subsequent version\n",
      "  return self.randrange(a, b+1)\n",
      "C:\\Users\\user\\AppData\\Local\\Programs\\Python\\Python310\\lib\\random.py:370: DeprecationWarning: non-integer arguments to randrange() have been deprecated since Python 3.10 and will be removed in a subsequent version\n",
      "  return self.randrange(a, b+1)\n"
     ]
    },
    {
     "name": "stdout",
     "output_type": "stream",
     "text": [
      " 1/15 [=>............................] - ETA: 6s - loss: 0.6239 - accuracy: 0.8125INFO:tensorflow:Assets written to: ..\\models\\dl-model.models\\assets\n",
      "15/15 [==============================] - 1s 49ms/step - loss: 0.5885 - accuracy: 0.7521 - val_loss: 0.5634 - val_accuracy: 0.7833\n",
      "Epoch 2/20\n",
      " 1/15 [=>............................] - ETA: 0s - loss: 0.5993 - accuracy: 0.6250INFO:tensorflow:Assets written to: ..\\models\\dl-model.models\\assets\n",
      "15/15 [==============================] - 1s 38ms/step - loss: 0.4816 - accuracy: 0.8025 - val_loss: 0.5164 - val_accuracy: 0.7667\n",
      "Epoch 3/20\n",
      " 1/15 [=>............................] - ETA: 0s - loss: 0.4406 - accuracy: 0.8750INFO:tensorflow:Assets written to: ..\\models\\dl-model.models\\assets\n",
      "15/15 [==============================] - 1s 38ms/step - loss: 0.4219 - accuracy: 0.7941 - val_loss: 0.4923 - val_accuracy: 0.7667\n",
      "Epoch 4/20\n",
      " 1/15 [=>............................] - ETA: 0s - loss: 0.5393 - accuracy: 0.6250INFO:tensorflow:Assets written to: ..\\models\\dl-model.models\\assets\n",
      "15/15 [==============================] - 1s 39ms/step - loss: 0.3771 - accuracy: 0.7983 - val_loss: 0.4688 - val_accuracy: 0.7833\n",
      "Epoch 5/20\n",
      " 1/15 [=>............................] - ETA: 0s - loss: 0.4884 - accuracy: 0.6250INFO:tensorflow:Assets written to: ..\\models\\dl-model.models\\assets\n",
      "15/15 [==============================] - 1s 39ms/step - loss: 0.3382 - accuracy: 0.8319 - val_loss: 0.4363 - val_accuracy: 0.7833\n",
      "Epoch 6/20\n",
      " 1/15 [=>............................] - ETA: 0s - loss: 0.4276 - accuracy: 0.8750INFO:tensorflow:Assets written to: ..\\models\\dl-model.models\\assets\n",
      "15/15 [==============================] - 1s 47ms/step - loss: 0.3018 - accuracy: 0.8655 - val_loss: 0.4097 - val_accuracy: 0.7833\n",
      "Epoch 7/20\n",
      " 1/15 [=>............................] - ETA: 0s - loss: 0.2965 - accuracy: 0.8125INFO:tensorflow:Assets written to: ..\\models\\dl-model.models\\assets\n",
      "15/15 [==============================] - 1s 37ms/step - loss: 0.2692 - accuracy: 0.8824 - val_loss: 0.3881 - val_accuracy: 0.7667\n",
      "Epoch 8/20\n",
      " 1/15 [=>............................] - ETA: 0s - loss: 0.3017 - accuracy: 0.8750INFO:tensorflow:Assets written to: ..\\models\\dl-model.models\\assets\n",
      "15/15 [==============================] - 1s 38ms/step - loss: 0.2444 - accuracy: 0.9034 - val_loss: 0.3698 - val_accuracy: 0.7833\n",
      "Epoch 9/20\n",
      " 1/15 [=>............................] - ETA: 0s - loss: 0.2550 - accuracy: 0.8750INFO:tensorflow:Assets written to: ..\\models\\dl-model.models\\assets\n",
      "15/15 [==============================] - 1s 44ms/step - loss: 0.2233 - accuracy: 0.9160 - val_loss: 0.3492 - val_accuracy: 0.8000\n",
      "Epoch 10/20\n",
      " 1/15 [=>............................] - ETA: 0s - loss: 0.1697 - accuracy: 0.9375INFO:tensorflow:Assets written to: ..\\models\\dl-model.models\\assets\n",
      "15/15 [==============================] - 1s 39ms/step - loss: 0.2066 - accuracy: 0.9244 - val_loss: 0.3355 - val_accuracy: 0.8167\n",
      "Epoch 11/20\n",
      " 1/15 [=>............................] - ETA: 0s - loss: 0.3060 - accuracy: 0.8750INFO:tensorflow:Assets written to: ..\\models\\dl-model.models\\assets\n",
      "15/15 [==============================] - 1s 39ms/step - loss: 0.1920 - accuracy: 0.9328 - val_loss: 0.3291 - val_accuracy: 0.8167\n",
      "Epoch 12/20\n",
      " 1/15 [=>............................] - ETA: 0s - loss: 0.2016 - accuracy: 0.9375INFO:tensorflow:Assets written to: ..\\models\\dl-model.models\\assets\n",
      "15/15 [==============================] - 1s 36ms/step - loss: 0.1793 - accuracy: 0.9286 - val_loss: 0.3269 - val_accuracy: 0.8000\n",
      "Epoch 13/20\n",
      " 1/15 [=>............................] - ETA: 0s - loss: 0.2069 - accuracy: 0.8125INFO:tensorflow:Assets written to: ..\\models\\dl-model.models\\assets\n",
      "15/15 [==============================] - 1s 36ms/step - loss: 0.1679 - accuracy: 0.9370 - val_loss: 0.3148 - val_accuracy: 0.8167\n",
      "Epoch 14/20\n",
      " 1/15 [=>............................] - ETA: 0s - loss: 0.2504 - accuracy: 0.8750INFO:tensorflow:Assets written to: ..\\models\\dl-model.models\\assets\n",
      "15/15 [==============================] - 1s 37ms/step - loss: 0.1589 - accuracy: 0.9412 - val_loss: 0.3067 - val_accuracy: 0.8500\n",
      "Epoch 15/20\n",
      " 1/15 [=>............................] - ETA: 0s - loss: 0.1008 - accuracy: 1.0000INFO:tensorflow:Assets written to: ..\\models\\dl-model.models\\assets\n",
      "15/15 [==============================] - 1s 36ms/step - loss: 0.1505 - accuracy: 0.9454 - val_loss: 0.3052 - val_accuracy: 0.8500\n",
      "Epoch 16/20\n",
      "15/15 [==============================] - 0s 4ms/step - loss: 0.1430 - accuracy: 0.9454 - val_loss: 0.3092 - val_accuracy: 0.8500\n",
      "Epoch 17/20\n",
      " 1/15 [=>............................] - ETA: 0s - loss: 0.1414 - accuracy: 0.9375INFO:tensorflow:Assets written to: ..\\models\\dl-model.models\\assets\n",
      "15/15 [==============================] - 1s 44ms/step - loss: 0.1372 - accuracy: 0.9496 - val_loss: 0.2900 - val_accuracy: 0.8500\n",
      "Epoch 18/20\n",
      "15/15 [==============================] - 0s 4ms/step - loss: 0.1308 - accuracy: 0.9538 - val_loss: 0.2988 - val_accuracy: 0.8500\n",
      "Epoch 19/20\n",
      "15/15 [==============================] - 0s 4ms/step - loss: 0.1257 - accuracy: 0.9496 - val_loss: 0.2964 - val_accuracy: 0.8500\n",
      "Epoch 20/20\n",
      " 1/15 [=>............................] - ETA: 0s - loss: 0.1513 - accuracy: 0.9375INFO:tensorflow:Assets written to: ..\\models\\dl-model.models\\assets\n",
      "15/15 [==============================] - 0s 35ms/step - loss: 0.1215 - accuracy: 0.9622 - val_loss: 0.2847 - val_accuracy: 0.8667\n"
     ]
    }
   ],
   "source": [
    "# Standardize features by removing the mean and scaling to unit variance\n",
    "scaler = StandardScaler()\n",
    "X_train_scaled = scaler.fit_transform(X_train)\n",
    "X_test_scaled = scaler.transform(X_test)\n",
    "\n",
    "# Define the Keras model\n",
    "model = Sequential()\n",
    "model.add(Dense(64, activation='relu', input_shape=(X_train.shape[1],)))\n",
    "model.add(Dense(32, activation='relu'))\n",
    "model.add(Dense(1, activation='sigmoid'))\n",
    "\n",
    "# Compile the model\n",
    "model.compile(optimizer=Adam(learning_rate=0.0009), loss='binary_crossentropy', metrics=['accuracy'])\n",
    "\n",
    "# Define a ModelCheckpoint callback to save the best model during training\n",
    "checkpoint = ModelCheckpoint((os.path.join('..','models', 'dl-model.models')), monitor='val_loss', save_best_only=True, mode='min')\n",
    "\n",
    "# Train the model\n",
    "history = model.fit(X_train_scaled, y_train, epochs=20, batch_size=16, validation_data=(X_test_scaled, y_test), callbacks=[checkpoint])\n",
    "\n"
   ]
  },
  {
   "cell_type": "code",
   "execution_count": 10,
   "metadata": {},
   "outputs": [
    {
     "name": "stdout",
     "output_type": "stream",
     "text": [
      "2/2 [==============================] - 0s 3ms/step - loss: 0.2847 - accuracy: 0.8667\n",
      "Validation Loss: 0.2847\n",
      "Validation Accuracy: 0.8667\n"
     ]
    }
   ],
   "source": [
    "# Validation metrics\n",
    "loss, accuracy = model.evaluate(X_test_scaled, y_test)\n",
    "print(f\"Validation Loss: {loss:.4f}\")\n",
    "print(f\"Validation Accuracy: {accuracy:.4f}\")"
   ]
  }
 ],
 "metadata": {
  "kernelspec": {
   "display_name": "Python 3 (ipykernel)",
   "language": "python",
   "name": "python3"
  },
  "language_info": {
   "codemirror_mode": {
    "name": "ipython",
    "version": 3
   },
   "file_extension": ".py",
   "mimetype": "text/x-python",
   "name": "python",
   "nbconvert_exporter": "python",
   "pygments_lexer": "ipython3",
   "version": "3.10.7"
  }
 },
 "nbformat": 4,
 "nbformat_minor": 2
}
